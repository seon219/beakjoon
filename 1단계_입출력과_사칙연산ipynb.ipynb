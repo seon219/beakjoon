{
  "nbformat": 4,
  "nbformat_minor": 0,
  "metadata": {
    "colab": {
      "name": "1단계_입출력과 사칙연산ipynb",
      "provenance": [],
      "authorship_tag": "ABX9TyM09ZKjXDO7W4+bALNyJ9fF",
      "include_colab_link": true
    },
    "kernelspec": {
      "name": "python3",
      "display_name": "Python 3"
    },
    "language_info": {
      "name": "python"
    }
  },
  "cells": [
    {
      "cell_type": "markdown",
      "metadata": {
        "id": "view-in-github",
        "colab_type": "text"
      },
      "source": [
        "<a href=\"https://colab.research.google.com/github/seon219/beakjoon/blob/main/1%EB%8B%A8%EA%B3%84_%EC%9E%85%EC%B6%9C%EB%A0%A5%EA%B3%BC_%EC%82%AC%EC%B9%99%EC%97%B0%EC%82%B0ipynb.ipynb\" target=\"_parent\"><img src=\"https://colab.research.google.com/assets/colab-badge.svg\" alt=\"Open In Colab\"/></a>"
      ]
    },
    {
      "cell_type": "markdown",
      "metadata": {
        "id": "cdqgCnIY4wVS"
      },
      "source": [
        "# 1. Hello World"
      ]
    },
    {
      "cell_type": "markdown",
      "metadata": {
        "id": "AoxUlZg748cU"
      },
      "source": [
        "Hello World!를 출력하시오."
      ]
    },
    {
      "cell_type": "code",
      "metadata": {
        "colab": {
          "base_uri": "https://localhost:8080/"
        },
        "id": "QZxp3CTG4kF3",
        "outputId": "86cc2283-ca1b-4365-c545-1163920237b5"
      },
      "source": [
        "print(\"Hello World!\")"
      ],
      "execution_count": null,
      "outputs": [
        {
          "output_type": "stream",
          "name": "stdout",
          "text": [
            "Hello World!\n"
          ]
        }
      ]
    },
    {
      "cell_type": "markdown",
      "metadata": {
        "id": "O5RBW8p0ASBo"
      },
      "source": [
        "# 2. We love kriii"
      ]
    },
    {
      "cell_type": "markdown",
      "metadata": {
        "id": "M86qrEArAjTg"
      },
      "source": [
        "두 줄에 걸쳐 \"강한친구 대한육군\"을 한 줄에 한 번씩 출력한다."
      ]
    },
    {
      "cell_type": "code",
      "metadata": {
        "colab": {
          "base_uri": "https://localhost:8080/"
        },
        "id": "fPyobq-xAs3K",
        "outputId": "c0cb044a-4b65-4cd8-c14c-29ef1272a03e"
      },
      "source": [
        "print(\"강한친구 대한육군\")\n",
        "print(\"강한친구 대한육군\")"
      ],
      "execution_count": null,
      "outputs": [
        {
          "output_type": "stream",
          "name": "stdout",
          "text": [
            "강한친구 대한육군\n",
            "강한친구 대한육군\n"
          ]
        }
      ]
    },
    {
      "cell_type": "markdown",
      "metadata": {
        "id": "2vVC-hFB5a7P"
      },
      "source": [
        "# 3. 고양이"
      ]
    },
    {
      "cell_type": "markdown",
      "metadata": {
        "id": "cJruHTui5eqD"
      },
      "source": [
        "아래 예제와 같이 고양이를 출력하시오.\n",
        "```\n",
        "\\    /\\\n",
        " )  ( ')\n",
        "(  /  )\n",
        " \\(__)|\n",
        "```\n",
        "\n"
      ]
    },
    {
      "cell_type": "code",
      "metadata": {
        "colab": {
          "base_uri": "https://localhost:8080/"
        },
        "id": "WzTozaNz45uw",
        "outputId": "89b011ce-e380-481b-b9f1-2b1048eed109"
      },
      "source": [
        "print(\"\\\\    /\\\\\")\n",
        "print(\" )  ( ')\")\n",
        "print(\"(  /  )\")\n",
        "print(\" \\\\(__)|\")"
      ],
      "execution_count": null,
      "outputs": [
        {
          "output_type": "stream",
          "name": "stdout",
          "text": [
            "\\    /\\\n",
            " )  ( ')\n",
            "(  /  )\n",
            " \\(__)|\n"
          ]
        }
      ]
    },
    {
      "cell_type": "markdown",
      "metadata": {
        "id": "PbuemyCS9CQC"
      },
      "source": [
        "# 4. 개"
      ]
    },
    {
      "cell_type": "markdown",
      "metadata": {
        "id": "32x_JIxz9EqH"
      },
      "source": [
        "아래 예제와 같이 개를 출력하시오.\n",
        "\n",
        "```\n",
        "|\\_/|\n",
        "|q p|   /}\n",
        "( 0 )\"\"\"\\\n",
        "|\"^\"`    |\n",
        "||_/=\\\\__|\n",
        "```"
      ]
    },
    {
      "cell_type": "code",
      "metadata": {
        "colab": {
          "base_uri": "https://localhost:8080/"
        },
        "id": "mBVuzwU551rS",
        "outputId": "6b81c8ff-e279-4f8f-cb39-4ce2a39598ba"
      },
      "source": [
        "print(\"|\\\\_/|\")\n",
        "print(\"|q p|   /}\")\n",
        "print(\"( 0 )\\\"\\\"\\\"\\\\\")\n",
        "print(\"|\\\"^\\\"`    |\")\n",
        "print(\"||_/=\\\\\\\\__|\")"
      ],
      "execution_count": null,
      "outputs": [
        {
          "output_type": "stream",
          "name": "stdout",
          "text": [
            "|\\_/|\n",
            "|q p|   /}\n",
            "( 0 )\"\"\"\\\n",
            "|\"^\"`    |\n",
            "||_/=\\\\__|\n"
          ]
        }
      ]
    },
    {
      "cell_type": "markdown",
      "metadata": {
        "id": "0HXYg6WI93nb"
      },
      "source": [
        "# 5. A+B"
      ]
    },
    {
      "cell_type": "markdown",
      "metadata": {
        "id": "yLkmOWCc97P7"
      },
      "source": [
        "- 두 정수 A와 B를 입력받은 다음, A+B를 출력하는 프로그램을 작성하시오.\n",
        "- 첫째 줄에 A와 B가 주어진다. (0 < A, B < 10)\n"
      ]
    },
    {
      "cell_type": "code",
      "metadata": {
        "colab": {
          "base_uri": "https://localhost:8080/"
        },
        "id": "XRBjL3YC9cob",
        "outputId": "bfeef2b9-b57a-4b87-fefd-1decc325a1bd"
      },
      "source": [
        "a = int(input(\"A를 입력하세요: \"))\n",
        "b = int(input(\"B를 입력하세요: \"))\n",
        "\n",
        "print(a+b)"
      ],
      "execution_count": null,
      "outputs": [
        {
          "output_type": "stream",
          "name": "stdout",
          "text": [
            "A를 입력하세요: 1\n",
            "B를 입력하세요: 2\n",
            "3\n"
          ]
        }
      ]
    },
    {
      "cell_type": "code",
      "metadata": {
        "id": "9zdswsfV-V-D",
        "colab": {
          "base_uri": "https://localhost:8080/"
        },
        "outputId": "f1a7809f-4f95-4e64-813c-0944f86e534b"
      },
      "source": [
        "n = list(input(\"띄어쓰기를 사용해서 A와 B를 입력하세요:\").split())\n",
        "s = int(n[0])+int(n[1])\n",
        "print(s)"
      ],
      "execution_count": 6,
      "outputs": [
        {
          "output_type": "stream",
          "name": "stdout",
          "text": [
            "띄어쓰기를 사용해서 A와 B를 입력하세요:1 2\n",
            "3\n"
          ]
        }
      ]
    },
    {
      "cell_type": "markdown",
      "metadata": {
        "id": "TvJlvoEfm-Ee"
      },
      "source": [
        "# 6. A-B"
      ]
    },
    {
      "cell_type": "markdown",
      "metadata": {
        "id": "Ug6eZm0AnCr0"
      },
      "source": [
        "- 두 정수 A와 B를 입력받은 다음, A-B를 출력하는 프로그램을 작성하시오.\n",
        "- 첫째 줄에 A와 B가 주어진다. (0 < A, B < 10)"
      ]
    },
    {
      "cell_type": "code",
      "metadata": {
        "colab": {
          "base_uri": "https://localhost:8080/"
        },
        "id": "zvdHpQ3MmQ2w",
        "outputId": "805bfe18-dbb7-4d82-95ed-2e7818f3ccba"
      },
      "source": [
        "n = list(input(\"띄어쓰기를 사용해서 A와 B를 입력하세요:\").split())\n",
        "s = int(n[0])-int(n[1])\n",
        "print(s)"
      ],
      "execution_count": 7,
      "outputs": [
        {
          "output_type": "stream",
          "name": "stdout",
          "text": [
            "띄어쓰기를 사용해서 A와 B를 입력하세요:3 2\n",
            "1\n"
          ]
        }
      ]
    },
    {
      "cell_type": "markdown",
      "metadata": {
        "id": "d7Etdt5EnamI"
      },
      "source": [
        "# 7. AxB"
      ]
    },
    {
      "cell_type": "markdown",
      "metadata": {
        "id": "fIVubnM7nevw"
      },
      "source": [
        "- 두 정수 A와 B를 입력받은 다음, AxB를 출력하는 프로그램을 작성하시오.\n",
        "- 첫째 줄에 A와 B가 주어진다. (0 < A, B < 10)"
      ]
    },
    {
      "cell_type": "code",
      "metadata": {
        "colab": {
          "base_uri": "https://localhost:8080/"
        },
        "id": "wZPZy9tgnljw",
        "outputId": "40b69a4c-9e09-4247-971c-10a715350911"
      },
      "source": [
        "n = list(input(\"띄어쓰기를 사용해서 A와 B를 입력하세요:\").split())\n",
        "s = int(n[0])*int(n[1])\n",
        "print(s)"
      ],
      "execution_count": 8,
      "outputs": [
        {
          "output_type": "stream",
          "name": "stdout",
          "text": [
            "띄어쓰기를 사용해서 A와 B를 입력하세요:1 2\n",
            "2\n"
          ]
        }
      ]
    },
    {
      "cell_type": "markdown",
      "metadata": {
        "id": "mNkXzJwGqaow"
      },
      "source": [
        "# 8. A/B"
      ]
    },
    {
      "cell_type": "markdown",
      "metadata": {
        "id": "mPJYshDEqiRM"
      },
      "source": [
        "- 두 정수 A와 B를 입력받은 다음, AxB를 출력하는 프로그램을 작성하시오.\n",
        "- 첫째 줄에 A와 B가 주어진다. (0 < A, B < 10)"
      ]
    },
    {
      "cell_type": "code",
      "metadata": {
        "colab": {
          "base_uri": "https://localhost:8080/"
        },
        "id": "ooBaf5JWqdNL",
        "outputId": "f844738c-7e0c-4891-a734-a12fb0b3fea4"
      },
      "source": [
        "n = list(input(\"띄어쓰기를 사용해서 A와 B를 입력하세요:\").split())\n",
        "s = int(n[0])/int(n[1])\n",
        "print(s)"
      ],
      "execution_count": 9,
      "outputs": [
        {
          "output_type": "stream",
          "name": "stdout",
          "text": [
            "띄어쓰기를 사용해서 A와 B를 입력하세요:1 3\n",
            "0.3333333333333333\n"
          ]
        }
      ]
    },
    {
      "cell_type": "markdown",
      "metadata": {
        "id": "DW2LoCXAq7dv"
      },
      "source": [
        "# 9. 사칙연산"
      ]
    },
    {
      "cell_type": "markdown",
      "metadata": {
        "id": "H7AyPD_mrCw8"
      },
      "source": [
        "- 두 자연수 A와 B가 주어진다.\n",
        "- A+B, A-B, A*B, A/B(몫), A%B(나머지)를 출력하는 프로그램을 작성하시오. \n",
        "- 두 자연수 A와 B가 주어진다. (1 ≤ A, B ≤ 10,000)"
      ]
    },
    {
      "cell_type": "code",
      "metadata": {
        "colab": {
          "base_uri": "https://localhost:8080/"
        },
        "id": "XNuKpK-jqn0t",
        "outputId": "07269ac1-a460-41b8-bc4b-5fc200a5fbf5"
      },
      "source": [
        "n = list(input(\"띄어쓰기를 사용해서 A와 B를 입력하세요:\").split())\n",
        "a = int(n[0])+int(n[1])\n",
        "b = int(n[0])-int(n[1])\n",
        "c = int(n[0])*int(n[1])\n",
        "d = int(n[0])//int(n[1])\n",
        "e = int(n[0])%int(n[1])\n",
        "print(a)\n",
        "print(b)\n",
        "print(c)\n",
        "print(d)\n",
        "print(e)"
      ],
      "execution_count": 11,
      "outputs": [
        {
          "output_type": "stream",
          "name": "stdout",
          "text": [
            "띄어쓰기를 사용해서 A와 B를 입력하세요:7 3\n",
            "10\n",
            "4\n",
            "21\n",
            "2\n",
            "1\n"
          ]
        }
      ]
    },
    {
      "cell_type": "markdown",
      "metadata": {
        "id": "iFIzJKrEsHp9"
      },
      "source": [
        "# 10. 나머지\n",
        "\n"
      ]
    },
    {
      "cell_type": "markdown",
      "metadata": {
        "id": "on8kaBM1sR2m"
      },
      "source": [
        "- (A+B)%C는 ((A%C) + (B%C))%C 와 같을까?\n",
        "- (A×B)%C는 ((A%C) × (B%C))%C 와 같을까?\n",
        "- 세 수 A, B, C가 주어졌을 때, 위의 네 가지 값을 구하는 프로그램을 작성하시오.\n",
        "- 첫째 줄에 A, B, C가 순서대로 주어진다. (2 ≤ A, B, C ≤ 10000)"
      ]
    },
    {
      "cell_type": "code",
      "metadata": {
        "colab": {
          "base_uri": "https://localhost:8080/"
        },
        "id": "uMW4jJ__sID-",
        "outputId": "f5d4991b-b17f-493b-e06c-7eecea68824b"
      },
      "source": [
        "n = list(input(\"띄어쓰기를 사용해서 A와 B와 C를 입력하세요:\").split())\n",
        "a = (int(n[0]) + int(n[1])) % int(n[2])\n",
        "b = ((int(n[0]) % int(n[2])) + (int(n[1]) % int(n[2]))) % int(n[2])\n",
        "c = (int(n[0]) * int(n[1])) % int(n[2])\n",
        "d = ((int(n[0]) % int(n[2])) * (int(n[1]) % int(n[2]))) % int(n[2])\n",
        "print(a)\n",
        "print(b)\n",
        "print(c)\n",
        "print(d)"
      ],
      "execution_count": 16,
      "outputs": [
        {
          "output_type": "stream",
          "name": "stdout",
          "text": [
            "띄어쓰기를 사용해서 A와 B와 C를 입력하세요:5 8 4\n",
            "1\n",
            "1\n",
            "0\n",
            "0\n"
          ]
        }
      ]
    },
    {
      "cell_type": "markdown",
      "metadata": {
        "id": "hzu8CO1W261Y"
      },
      "source": [
        "# 11. 곱셈"
      ]
    },
    {
      "cell_type": "markdown",
      "metadata": {
        "id": "osIkDfjZ3OPP"
      },
      "source": [
        "(세 자리 수) × (세 자리 수)는 다음과 같은 과정을 통하여 이루어진다.\n",
        "![image.png](data:image/png;base64,iVBORw0KGgoAAAANSUhEUgAAATIAAAC3CAIAAAAerkVNAAAG3ElEQVR4nO3d27KiOhQFUDzV///LngeqLVtQgUQyQ8Z46mrdERMmN2Hldr/fJyDJf60XAHgllhBHLCGOWEIcsYQ4YglxxBLiiCXEEUuII5YM6na7Fb7hd25uvmtiHvJjnb+6uhQ2NdpqcLutrPnL/1x92wn+nP+RFFpdnw6087zOtVr/mliN3+o77/d7k55xENtA3ZE+1trLX83rX61F6s79fo/aKoklW91utw/RLXn1nPYf79yVwCYbLLE8W8KuclocCX9t57Fqrq6jJa+e035fxJKxTiy7IJanCgzAxkV6vGf1zSWvntN+X+LWkmur+NvGVCPkgZuJX/vwld+9dH4v+YHkVM+j2zwSzRegib2/efiBhPOMmcle2FuOa3lEPUhQt+8wW228bDIZ1JbfhFqlQywhjnNLiCOWEEcsIY5YQhyxhDhiCXHEEuKIJcQRS4gjlhBHLBmUOrH8o0p11sJGhn18ZPahJmXCM7Ee7DpbleqsVRoZKofPPpdpfv63OrG5Pldb29tUeXVWJV7rCuxPsfxuOU6nlYHcsjzqDOzSRZ1YB7GbPB/MVCls9Wi2ZHkKG3le20YOdsi8I8/EcqtHEsrHLPDccksjn79+yavntL9FQiYnB7FtNTy3fFn5vjYyQlX1kExOYrndPGYJ1wP4hZxMTmK50fKi+eF26i3UqS5TVX11+A7UdP6poC1ErNWBaXtaWN7Iy19F7St+bdd3F8tRJNzlM/276x5tNXjZri3fUOuq+zFiyaDUiQV2cMkH4oglxBFLiCOWEEcsIY5YQhyxhDhiCXHEEuKIJcQRS4jTuGhIv88fXps7pdtyqzrEcRALccQS4oglxBFLiCOWEEcsIY5YQhyxhDhiCXHEEuKIJcQRS4gjlgzq69NLDR9v8gTJbhXn5Gk7NVCtRnq0nF9ktStMDdSHujPY9TUb32UmaV/N5LuuaJJMB7E7lM+OXmV+9SaNXHiS9ir9WZdYnurDRrpis3yw7PPPg9IkpWK5Q61Q3f4qPC2cHW5hl8tM0v5OlUGppXEtn36VjF/IueVenz+l5NVz2t/46QnJtLc8ouLB57HdXfOjrAtL6E+x3C1ha8q1ieU+5SeEFReGA5Y7w6+XoP1AEq18hF7WiWMN5jRyDYFd0X4JOrK6WT12R8Hhvw1spEfu8oFEXyPXcLcplhDHuSXEEUuII5YQRywhjlhCHLGEOGIJccQS4oglxBFLBqUgZYrCO7PLb1WvdbP7NPBd5lWs3u+6LJ/X6rbYgYqGlBfaeDeQZ7bw+KuoIhd92d5j8zNfnrf8lV+UMysfsPJKs1NGkYsLiNq6jRLLH1WCDHGl7/Jre4e+yVZvoIPYqer5WKtd5fOfz/84LZOXqaq++udRm7ZR9paz+1+9H/XNq9GZ3+XCVdUDjRXLh96T6dyyorRd5TRsLAs1P4I937Wrqj+XqD+zVv07o5xbdheDQNeoqr78zePzD5V+IPmhwKKDh13pu7BqlL3l9O/a3Pt6fKXvcr7tNwkoSAmnUpAS2GGUc0voiFhCHLGEOGIJccQS4oglxBFLiCOWEEcsIY5YMigFKaup8qDjVHx7d3f1PnjxUjrw5dXmVQW7eYKk+ZOps7r18jyT1cSy29+NgoKUX8x1awobKe/iwsVQS5ItuonlVdlbnkxByiw5R4zOLdM8By9hUAaKZQjnloES5h15NspBbEJfz5xbplle/mk+KAPtLV/KUk0ZhysduXBV9TSj7C3vT6ZK13WHcpmq6nt3hn4guT61JAO9pDRhUNovwS5Vuqx5TfROr8Re6SD2ZQTfXYlVkBJOpSAlsINzS4gjlhBHLCGOWEIcsYQ4YglxxBLiiCXEEUuII5YQRywhjlhCHLGEOI2LhjQvmsIqzxW15cEuiOMgFuKIJcQRS4gjlhBHLCGOWEIcsYQ4YglxxBLiiCWD+nrjZ8M7Qzu7+S5k8o/Di7E60oVNJXRId5YjuNoVreY76GZ+y/JNV5VpmAsXY/mhxxqs9V3GnJd6NZOrXTHPsGYivbcKZ6R86dzDM/7WnRjz2JBX+S61OuQCAruim1gWMrEksy1D3zyl3RzElnvu34RMHt40fDgA+6krzW/5roXCRmoZZW85/V19Z82PUmo5OZPTm5PhjiZpf/fpUevGKLEMPH8o51C8lrR1Y5RYpmk+Ufxezxcn6756Tvt9Gejc8kqa7Cc/f2LJq+e0/3jnrt7zA8kPXelKbJWFv1KHFArsioH2lmlXYkssT34OfKMrdcguyx3mu65oFdH2GwZo4mvkGu42xRLijHJuCR0RS4gjlhBHLCGOWEIcsYQ4YglxxBLiiCXEEUuII5YQRywhzv/er2c5dJ9UiAAAAABJRU5ErkJggg==)\n",
        "\n",
        "(1)과 (2)위치에 들어갈 세 자리 자연수가 주어질 때 (3), (4), (5), (6)위치에 들어갈 값을 구하는 프로그램을 작성하시오."
      ]
    },
    {
      "cell_type": "code",
      "metadata": {
        "colab": {
          "base_uri": "https://localhost:8080/"
        },
        "id": "p_k8AMLR26oq",
        "outputId": "8cfaf642-21be-481e-d5cf-1fef752bdb8a"
      },
      "source": [
        "a = int(input(\"숫자를 입력하세요: \"))\n",
        "b = list(input(\"숫자를 입력하세요: \"))\n",
        "\n",
        "b1 = a * int(b[2])\n",
        "b2 = a * int(b[1])\n",
        "b3 = a * int(b[0])\n",
        "\n",
        "print(b1)\n",
        "print(b2)\n",
        "print(b3)\n",
        "print(b1 + (b2 * 10) + (b3 * 100))"
      ],
      "execution_count": 1,
      "outputs": [
        {
          "output_type": "stream",
          "name": "stdout",
          "text": [
            "숫자를 입력하세요: 472\n",
            "숫자를 입력하세요: 385\n",
            "2360\n",
            "3776\n",
            "1416\n",
            "181720\n"
          ]
        }
      ]
    }
  ]
}