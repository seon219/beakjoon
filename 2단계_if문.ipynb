{
  "nbformat": 4,
  "nbformat_minor": 0,
  "metadata": {
    "colab": {
      "name": "2단계_if문.ipynb",
      "provenance": [],
      "authorship_tag": "ABX9TyNLIvmozdOer2Ar75Uw1HmE",
      "include_colab_link": true
    },
    "kernelspec": {
      "name": "python3",
      "display_name": "Python 3"
    },
    "language_info": {
      "name": "python"
    }
  },
  "cells": [
    {
      "cell_type": "markdown",
      "metadata": {
        "id": "view-in-github",
        "colab_type": "text"
      },
      "source": [
        "<a href=\"https://colab.research.google.com/github/seon219/beakjoon/blob/main/2%EB%8B%A8%EA%B3%84_if%EB%AC%B8.ipynb\" target=\"_parent\"><img src=\"https://colab.research.google.com/assets/colab-badge.svg\" alt=\"Open In Colab\"/></a>"
      ]
    },
    {
      "cell_type": "markdown",
      "metadata": {
        "id": "BquSg_rbJZy3"
      },
      "source": [
        "# 1. 두 수 비교하기"
      ]
    },
    {
      "cell_type": "markdown",
      "metadata": {
        "id": "1cd6xvgCJf4j"
      },
      "source": [
        "- 두 정수 A와 B가 주어졌을 때, A와 B를 비교하는 프로그램을 작성하시오.\n",
        "- 첫째 줄에 A와 B가 주어진다. A와 B는 공백 한 칸으로 구분되어져 있다.\n",
        "- 첫째 줄에 다음 세 가지 중 하나를 출력한다.\n",
        "  - A가 B보다 큰 경우에는 '>'를 출력한다.\n",
        "  - A가 B보다 작은 경우에는 '<'를 출력한다.\n",
        "  - A와 B가 같은 경우에는 '=='를 출력한다."
      ]
    },
    {
      "cell_type": "code",
      "metadata": {
        "colab": {
          "base_uri": "https://localhost:8080/"
        },
        "id": "c8HkEMRwJHpq",
        "outputId": "26e3ef93-6fb8-4763-8581-68ce08682760"
      },
      "source": [
        "a, b = map(int, input(\"띄어쓰기를 사용해 숫자를 입력하세요: \").split())\n",
        "if a < b:\n",
        "  print(\"<\")\n",
        "elif a == b:\n",
        "  print(\"==\")\n",
        "elif a > b:\n",
        "  print(\">\")"
      ],
      "execution_count": 8,
      "outputs": [
        {
          "output_type": "stream",
          "name": "stdout",
          "text": [
            "띄어쓰기를 사용해 숫자를 입력하세요: 10 2\n",
            ">\n"
          ]
        }
      ]
    },
    {
      "cell_type": "markdown",
      "metadata": {
        "id": "Qg_MjYESMXUN"
      },
      "source": [
        "# 2. 시험성적"
      ]
    },
    {
      "cell_type": "markdown",
      "metadata": {
        "id": "sscKSPoOMZke"
      },
      "source": [
        "- 시험 점수를 입력받아 90 ~ 100점은 A, 80 ~ 89점은 B, 70 ~ 79점은 C, 60 ~ 69점은 D, 나머지 점수는 F를 출력하는 프로그램을 작성하시오.\n",
        "- 첫째 줄에 시험 점수가 주어진다. 시험 점수는 0보다 크거나 같고, 100보다 작거나 같은 정수이다."
      ]
    },
    {
      "cell_type": "code",
      "metadata": {
        "colab": {
          "base_uri": "https://localhost:8080/"
        },
        "id": "TpxLjEEzKVeV",
        "outputId": "aff2ff4e-4aa3-4ad3-c81f-9b63f811fc64"
      },
      "source": [
        "n = int(input(\"시험 점수를 입력하세요: \"))\n",
        "\n",
        "if n >= 90 :\n",
        "  print(\"A\")\n",
        "elif n >= 80:\n",
        "  print(\"B\")\n",
        "elif n >= 70:\n",
        "  print(\"C\")\n",
        "elif n >= 60:\n",
        "  print(\"D\")\n",
        "else :\n",
        "  print(\"F\")"
      ],
      "execution_count": 11,
      "outputs": [
        {
          "output_type": "stream",
          "name": "stdout",
          "text": [
            "시험 점수를 입력하세요: 78\n",
            "C\n"
          ]
        }
      ]
    },
    {
      "cell_type": "markdown",
      "metadata": {
        "id": "Vq2nBZjhNRX0"
      },
      "source": [
        "# 3. 윤년"
      ]
    },
    {
      "cell_type": "markdown",
      "metadata": {
        "id": "JYngw57gNUNN"
      },
      "source": [
        "연도가 주어졌을 때, 윤년이면 1, 아니면 0을 출력하는 프로그램을 작성하시오.\n",
        "\n",
        "윤년은 연도가 4의 배수이면서, 100의 배수가 아닐 때 또는 400의 배수일 때이다.\n",
        "\n",
        "예를 들어, 2012년은 4의 배수이면서 100의 배수가 아니라서 윤년이다. 1900년은 100의 배수이고 400의 배수는 아니기 때문에 윤년이 아니다. 하지만, 2000년은 400의 배수이기 때문에 윤년이다."
      ]
    },
    {
      "cell_type": "code",
      "metadata": {
        "colab": {
          "base_uri": "https://localhost:8080/"
        },
        "id": "nAadW5g4NTZ2",
        "outputId": "8bdf248c-7eb2-4288-f608-9561c22939c5"
      },
      "source": [
        "n = int(input(\"연도를 입력하세요: \"))\n",
        "\n",
        "if (n % 4 == 0 and n % 100 != 0) or (n % 400 == 0):\n",
        "  print(1)\n",
        "elif n % 4 == 0 and n % 100 == 0:\n",
        "  print(0)"
      ],
      "execution_count": 15,
      "outputs": [
        {
          "output_type": "stream",
          "name": "stdout",
          "text": [
            "연도를 입력하세요: 2000\n",
            "1\n"
          ]
        }
      ]
    },
    {
      "cell_type": "markdown",
      "metadata": {
        "id": "DTFfiKb-PY59"
      },
      "source": [
        "# 4. 사분면 고르기"
      ]
    },
    {
      "cell_type": "markdown",
      "metadata": {
        "id": "Gwqht9kPPcNr"
      },
      "source": [
        "- 흔한 수학 문제 중 하나는 주어진 점이 어느 사분면에 속하는지 알아내는 것이다. 사분면은 아래 그림처럼 1부터 4까지 번호를 갖는다. \"Quadrant n\"은 \"제n사분면\"이라는 뜻이다.\n",
        "![image.png](data:image/png;base64,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)\n",
        "\n",
        "- 좌표가 (12, 5)인 점 A는 x좌표와 y좌표가 모두 양수이므로 제1사분면에 속한다. 점 B는 x좌표가 음수이고 y좌표가 양수이므로 제2사분면에 속한다.\n",
        "- 점의 좌표를 입력받아 그 점이 어느 사분면에 속하는지 알아내는 프로그램을 작성하시오. 단, x좌표와 y좌표는 모두 양수나 음수라고 가정한다.\n",
        "\n",
        "\n",
        "- 첫 줄에는 정수 x가 주어진다. (−1000 ≤ x ≤ 1000; x ≠ 0) 다음 줄에는 정수 y가 주어진다. (−1000 ≤ y ≤ 1000; y ≠ 0)"
      ]
    },
    {
      "cell_type": "code",
      "metadata": {
        "colab": {
          "base_uri": "https://localhost:8080/"
        },
        "id": "6l-ymfgRO4aK",
        "outputId": "e329f5f1-00b5-4153-dd2b-9bf267d36766"
      },
      "source": [
        "x = int(input(\"x를 입력하세요: \"))\n",
        "y = int(input(\"y를 입력하세요: \"))\n",
        "\n",
        "if x > 0 and y > 0:\n",
        "  print(1)\n",
        "elif x < 0 and y > 0:\n",
        "  print(2)\n",
        "elif x < 0 and y < 0:\n",
        "  print(3)\n",
        "elif x > 0 and y < 0:\n",
        "  print(4)"
      ],
      "execution_count": 18,
      "outputs": [
        {
          "output_type": "stream",
          "name": "stdout",
          "text": [
            "x를 입력하세요: 9\n",
            "y를 입력하세요: -13\n",
            "4\n"
          ]
        }
      ]
    },
    {
      "cell_type": "markdown",
      "metadata": {
        "id": "1CPOl0NbQqdc"
      },
      "source": [
        "# 5. 알람시계"
      ]
    },
    {
      "cell_type": "markdown",
      "metadata": {
        "id": "hituDuaIQstJ"
      },
      "source": [
        "- 원래 설정되어 있는 알람을 45분 앞서는 시간으로 바꾸는 것이다. \n",
        "- 알람 시각이 주어졌을 때, 언제로 시간을 고쳐야 하는지 프로그램 작성하기\n",
        "- 첫째 줄에 두 정수 H와 M이 주어짐 (H시 M분)\n",
        "- 입력시간은 24시간 표현 사용. 하루의 시간은 0:0, 끝은 23:59"
      ]
    },
    {
      "cell_type": "code",
      "metadata": {
        "colab": {
          "base_uri": "https://localhost:8080/"
        },
        "id": "--GALDeUQgot",
        "outputId": "14141811-ee78-41e8-b6f0-61bbbc8a4729"
      },
      "source": [
        "h = int(input(\"시를 입력하세요: \"))\n",
        "m = int(input(\"분을 입력하세요: \"))\n",
        "\n",
        "if m >= 45:\n",
        "  m = m - 45\n",
        "elif m < 45:\n",
        "  if h > 0:\n",
        "    h = h - 1\n",
        "    m = m + 60 - 45\n",
        "  else:\n",
        "    h = 23\n",
        "    m = m + 60 - 45\n",
        "\n",
        "print (h, m)"
      ],
      "execution_count": 23,
      "outputs": [
        {
          "output_type": "stream",
          "name": "stdout",
          "text": [
            "시를 입력하세요: 23\n",
            "분을 입력하세요: 40\n",
            "22 55\n"
          ]
        }
      ]
    }
  ]
}