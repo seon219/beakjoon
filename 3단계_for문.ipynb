{
  "nbformat": 4,
  "nbformat_minor": 0,
  "metadata": {
    "colab": {
      "name": "3단계_for문.ipynb",
      "provenance": [],
      "authorship_tag": "ABX9TyNKodM0bb27Ka697aaleSDS",
      "include_colab_link": true
    },
    "kernelspec": {
      "name": "python3",
      "display_name": "Python 3"
    },
    "language_info": {
      "name": "python"
    }
  },
  "cells": [
    {
      "cell_type": "markdown",
      "metadata": {
        "id": "view-in-github",
        "colab_type": "text"
      },
      "source": [
        "<a href=\"https://colab.research.google.com/github/seon219/beakjoon/blob/main/3%EB%8B%A8%EA%B3%84_for%EB%AC%B8.ipynb\" target=\"_parent\"><img src=\"https://colab.research.google.com/assets/colab-badge.svg\" alt=\"Open In Colab\"/></a>"
      ]
    },
    {
      "cell_type": "markdown",
      "metadata": {
        "id": "XntvAllE8vB_"
      },
      "source": [
        "# 1. 구구단"
      ]
    },
    {
      "cell_type": "markdown",
      "metadata": {
        "id": "7hfEF9Y_8yTM"
      },
      "source": [
        "- N을 입력받은 뒤, 구구단 N단을 출력하는 프로그램을 작성하시오. 출력 형식에 맞춰서 출력하면 된다.\n",
        "- 첫째 줄에 N이 주어진다. N은 1보다 크거나 같고, 9보다 작거나 같다."
      ]
    },
    {
      "cell_type": "code",
      "metadata": {
        "colab": {
          "base_uri": "https://localhost:8080/"
        },
        "id": "kBDjP5XL8lJs",
        "outputId": "50a222e4-8f91-4191-cd8c-28028e0ecff9"
      },
      "source": [
        "n = int(input(\"숫자를 입력하세요: \"))\n",
        "\n",
        "for i in range (1, 10):\n",
        "  print(n,'*', i, '=', n*i)"
      ],
      "execution_count": 7,
      "outputs": [
        {
          "output_type": "stream",
          "name": "stdout",
          "text": [
            "숫자를 입력하세요: 2\n",
            "2 * 1 = 2\n",
            "2 * 2 = 4\n",
            "2 * 3 = 6\n",
            "2 * 4 = 8\n",
            "2 * 5 = 10\n",
            "2 * 6 = 12\n",
            "2 * 7 = 14\n",
            "2 * 8 = 16\n",
            "2 * 9 = 18\n"
          ]
        }
      ]
    },
    {
      "cell_type": "markdown",
      "metadata": {
        "id": "KvInSJcw-sZu"
      },
      "source": [
        "# 2. A+B"
      ]
    },
    {
      "cell_type": "markdown",
      "metadata": {
        "id": "CfwybnRG_XUR"
      },
      "source": [
        "- 두 정수 A와 B를 입력받은 다음, A+B를 출력하는 프로그램을 작성하시오.\n",
        "- 첫째 줄에 테스트 케이스의 개수 T가 주어진다.\n",
        "- 각 테스트 케이스는 한 줄로 이루어져 있으며, 각 줄에 A와 B가 주어진다. (0 < A, B < 10)"
      ]
    },
    {
      "cell_type": "code",
      "metadata": {
        "colab": {
          "base_uri": "https://localhost:8080/"
        },
        "id": "JhiPLKIG948z",
        "outputId": "8e1cded8-5298-4e89-b210-1af33a32f805"
      },
      "source": [
        "n = int(input(\"테스트 개수를 입력하세요: \"))\n",
        "\n",
        "for i in range(1, n+1):\n",
        "  a, b = map(int, input(\"띄어쓰기를 사용해 숫자를 입력하세요: \").split())\n",
        "  print(a+b)"
      ],
      "execution_count": 16,
      "outputs": [
        {
          "output_type": "stream",
          "name": "stdout",
          "text": [
            "테스트 개수를 입력하세요: 5\n",
            "띄어쓰기를 사용해 숫자를 입력하세요: 1 1\n",
            "2\n",
            "띄어쓰기를 사용해 숫자를 입력하세요: 2 3\n",
            "5\n",
            "띄어쓰기를 사용해 숫자를 입력하세요: 3 4\n",
            "7\n",
            "띄어쓰기를 사용해 숫자를 입력하세요: 9 8\n",
            "17\n",
            "띄어쓰기를 사용해 숫자를 입력하세요: 5 2\n",
            "7\n"
          ]
        }
      ]
    },
    {
      "cell_type": "markdown",
      "metadata": {
        "id": "sJMZX-huFF60"
      },
      "source": [
        "# 3. 합"
      ]
    },
    {
      "cell_type": "markdown",
      "metadata": {
        "id": "ymznt74IFH5h"
      },
      "source": [
        "- n이 주어졌을 때, 1부터 n까지 합을 구하는 프로그램을 작성하시오.\n",
        "- 첫째 줄에 n (1 ≤ n ≤ 10,000)이 주어진다.\n",
        "- 1부터 n까지 합을 출력한다."
      ]
    },
    {
      "cell_type": "code",
      "metadata": {
        "colab": {
          "base_uri": "https://localhost:8080/"
        },
        "id": "rveFcDlzEHdm",
        "outputId": "fb44d1db-17d2-4f71-9c62-a6a172c7008b"
      },
      "source": [
        "n = int(input(\"숫자를 입력하세요: \"))\n",
        "a = 0\n",
        "\n",
        "for i in range (1, n+1):\n",
        "  a = a+i\n",
        "\n",
        "print(a)"
      ],
      "execution_count": 29,
      "outputs": [
        {
          "output_type": "stream",
          "name": "stdout",
          "text": [
            "숫자를 입력하세요: 10\n",
            "55\n"
          ]
        }
      ]
    },
    {
      "cell_type": "markdown",
      "metadata": {
        "id": "ualjug4nHmFN"
      },
      "source": [
        "# 4. 빠른 A+B"
      ]
    },
    {
      "cell_type": "markdown",
      "metadata": {
        "id": "NXEczdkup2Xm"
      },
      "source": [
        "- 첫 줄에 테스트케이스의 개수 T가 주어진다. T는 최대 1,000,000이다. 다음 T줄에는 각각 두 정수 A와 B가 주어진다. A와 B는 1 이상, 1,000 이하이다."
      ]
    },
    {
      "cell_type": "code",
      "metadata": {
        "id": "cNNfp-PJGaDY"
      },
      "source": [
        "import sys\n",
        "\n",
        "n = int(input(\"테스트 개수를 입력하세요: \"))\n",
        "\n",
        "for i in range(1, n+1):\n",
        "  a, b = map(int, sys.stdin.readline(\"띄어쓰기를 사용해 숫자를 입력하세요: \").split())\n",
        "  print(a+b)"
      ],
      "execution_count": null,
      "outputs": []
    },
    {
      "cell_type": "markdown",
      "metadata": {
        "id": "SF8RhzpCqWI5"
      },
      "source": [
        "- sys.stdin.reading()\n",
        " - 반복문으로 여러줄을 입력받아야 할 때 시간초과가 발생할 수 있는 input 대신 사용\n",
        " - 반복문으로 여러줄 입력받는 상황에서는 반드시 사용해야 시간초과가 발생하지 않음\n",
        " - 한줄 단위로 입력받기 때문에 개행문자가 같이 입력되기 때문에 개행문자 제거 필요\n",
        " - 변수 타입이 문자열 형태(str)로 저장되기 때문에 정수로 사용하기 위해서 형변환을 거쳐야 함"
      ]
    },
    {
      "cell_type": "markdown",
      "metadata": {
        "id": "ML3ABQjtHp14"
      },
      "source": [
        "- for문은 입출력 방식이 느리면 여러 줄을 입력받거나 출력할 때 시간초과가 날 수 있다.\n",
        "\n",
        "- C++을 사용하고 있고 cin/cout을 사용하고자 한다면\n",
        " - cin.tie(NULL)과 sync_with_stdio(false)를 둘 다 적용\n",
        " - endl 대신 개행문자(\\n)\n",
        " - 이렇게 하면 더 이상 scanf/printf/puts/getchar/putchar 등 C의 입출력 방식을 사용하면 안 됨\n",
        "\n",
        "- Java를 사용하고 있다면\n",
        " - Scanner와 System.out.println 대신 BufferedReader와 BufferedWriter를 사용\n",
        " - BufferedWriter.flush는 맨 마지막에 한 번만 하면 됨\n",
        "\n",
        "- Python을 사용하고 있다면\n",
        " - input 대신 sys.stdin.readline을 사용\n",
        " - 이때는 맨 끝의 개행문자까지 같이 입력받기 때문에 문자열을 저장하고 싶을 경우 .rstrip()을 추가로 해 주는 것이 좋음\n",
        "\n",
        "- 입력과 출력은 별개이므로 테스트케이스를 전부 입력받아서 저장한 뒤 전부 출력할 필요는 없음\n",
        "- 테스트케이스를 하나 받은 뒤 하나 출력해도 된다."
      ]
    },
    {
      "cell_type": "markdown",
      "metadata": {
        "id": "B_fL74-8tT1I"
      },
      "source": [
        "# 5. N찍기"
      ]
    },
    {
      "cell_type": "markdown",
      "metadata": {
        "id": "kMAp61JCtXMB"
      },
      "source": [
        "- 자연수 N이 주어졌을 때, 1부터 N까지 한 줄에 하나씩 출력하는 프로그램을 작성하시오.\n",
        "- 첫째 줄에 100,000보다 작거나 같은 자연수 N이 주어진다."
      ]
    },
    {
      "cell_type": "code",
      "metadata": {
        "colab": {
          "base_uri": "https://localhost:8080/"
        },
        "id": "IWYPrYRntWuW",
        "outputId": "d1978fa0-c0ea-47b0-8861-949cc8571fab"
      },
      "source": [
        "n = int(input(\"숫자를 입력하세요: \"))\n",
        "\n",
        "for i in range (1, n+1):\n",
        "  print(i)"
      ],
      "execution_count": 10,
      "outputs": [
        {
          "output_type": "stream",
          "name": "stdout",
          "text": [
            "숫자를 입력하세요: 5\n",
            "1\n",
            "2\n",
            "3\n",
            "4\n",
            "5\n"
          ]
        }
      ]
    },
    {
      "cell_type": "markdown",
      "metadata": {
        "id": "xqYnLNExtuu-"
      },
      "source": [
        "# 6. 기찍N"
      ]
    },
    {
      "cell_type": "markdown",
      "metadata": {
        "id": "iTWI6nUutzZJ"
      },
      "source": [
        "- 자연수 N이 주어졌을 때, N부터 1까지 한 줄에 하나씩 출력하는 프로그램을 작성하시오.\n",
        "- 첫째 줄에 100,000보다 작거나 같은 자연수 N이 주어진다."
      ]
    },
    {
      "cell_type": "code",
      "metadata": {
        "colab": {
          "base_uri": "https://localhost:8080/"
        },
        "id": "Cuqn01XZti6d",
        "outputId": "c053ce3b-9325-47c4-f03f-e7b5283f1cbe"
      },
      "source": [
        "n = int(input(\"숫자를 입력하세요: \"))\n",
        "\n",
        "for i in range (n, 0, -1): #step을 음수로 지정\n",
        "  print(i)"
      ],
      "execution_count": 12,
      "outputs": [
        {
          "output_type": "stream",
          "name": "stdout",
          "text": [
            "숫자를 입력하세요: 5\n",
            "5\n",
            "4\n",
            "3\n",
            "2\n",
            "1\n"
          ]
        }
      ]
    },
    {
      "cell_type": "code",
      "metadata": {
        "colab": {
          "base_uri": "https://localhost:8080/"
        },
        "id": "eZ-lX4zwt89z",
        "outputId": "36381d34-0cae-4bfc-93f2-fa96e035c46d"
      },
      "source": [
        "n = int(input(\"숫자를 입력하세요: \"))\n",
        "\n",
        "for i in reversed(range(n)): # reversed는 리스트의 원소를 거꾸로 반환\n",
        "  print(i+1)"
      ],
      "execution_count": 15,
      "outputs": [
        {
          "output_type": "stream",
          "name": "stdout",
          "text": [
            "숫자를 입력하세요: 5\n",
            "5\n",
            "4\n",
            "3\n",
            "2\n",
            "1\n"
          ]
        }
      ]
    },
    {
      "cell_type": "markdown",
      "metadata": {
        "id": "FmnhbqPruiti"
      },
      "source": [
        "# 7. A+B"
      ]
    },
    {
      "cell_type": "markdown",
      "metadata": {
        "id": "qFcxeDj-u6xO"
      },
      "source": [
        "- 두 정수 A와 B를 입력받은 다음, A+B를 출력하는 프로그램을 작성하시오.\n",
        "- 첫째 줄에 테스트 케이스의 개수 T가 주어진다.\n",
        "- 각 테스트 케이스는 한 줄로 이루어져 있으며, 각 줄에 A와 B가 주어진다. (0 < A, B < 10)\n",
        "- 각 테스트 케이스마다 \"Case #x: \"를 출력한 다음, A+B를 출력한다. 테스트 케이스 번호는 1부터 시작한다."
      ]
    },
    {
      "cell_type": "code",
      "metadata": {
        "colab": {
          "base_uri": "https://localhost:8080/"
        },
        "id": "zF-hqBQ8uc-z",
        "outputId": "43841a60-b943-4201-edf9-e2b2603873df"
      },
      "source": [
        "n = int(input(\"테스트 개수를 입력하세요: \"))\n",
        "i = 0\n",
        "\n",
        "for i in range(n):\n",
        "  a, b = map(int, input(\"띄어쓰기를 사용해 숫자를 입력하세요: \").split())\n",
        "  print(\"Case #{}: {}\". format(i+1, a+b))"
      ],
      "execution_count": 21,
      "outputs": [
        {
          "output_type": "stream",
          "name": "stdout",
          "text": [
            "테스트 개수를 입력하세요: 5\n",
            "띄어쓰기를 사용해 숫자를 입력하세요: 1 1\n",
            "Case #1: 2\n",
            "띄어쓰기를 사용해 숫자를 입력하세요: 2 3\n",
            "Case #2: 5\n",
            "띄어쓰기를 사용해 숫자를 입력하세요: 3 4\n",
            "Case #3: 7\n",
            "띄어쓰기를 사용해 숫자를 입력하세요: 9 8\n",
            "Case #4: 17\n",
            "띄어쓰기를 사용해 숫자를 입력하세요: 5 2\n",
            "Case #5: 7\n"
          ]
        }
      ]
    },
    {
      "cell_type": "markdown",
      "metadata": {
        "id": "GQgsiW7Axbvd"
      },
      "source": [
        "# 8. A+B"
      ]
    },
    {
      "cell_type": "markdown",
      "metadata": {
        "id": "2Cn88LxfxenY"
      },
      "source": [
        "- 두 정수 A와 B를 입력받은 다음, A+B를 출력하는 프로그램을 작성하시오.\n",
        "- 첫째 줄에 테스트 케이스의 개수 T가 주어진다.\n",
        "- 각 테스트 케이스는 한 줄로 이루어져 있으며, 각 줄에 A와 B가 주어진다. (0 < A, B < 10)\n",
        "- 각 테스트 케이스마다 \"Case #x: A + B = C\" 형식으로 출력한다. x는 테스트 케이스 번호이고 1부터 시작하며, C는 A+B이다."
      ]
    },
    {
      "cell_type": "code",
      "metadata": {
        "colab": {
          "base_uri": "https://localhost:8080/"
        },
        "id": "jkO3FVRkvx5L",
        "outputId": "c9c42695-53fd-4453-9dc0-e3084cc6aefe"
      },
      "source": [
        "n = int(input(\"테스트 개수를 입력하세요: \"))\n",
        "i = 0\n",
        "\n",
        "for i in range(n):\n",
        "  a, b = map(int, input(\"띄어쓰기를 사용해 숫자를 입력하세요: \").split())\n",
        "  print(\"Case #{}: {} + {} = {}\". format(i+1,a, b, a+b))"
      ],
      "execution_count": 22,
      "outputs": [
        {
          "output_type": "stream",
          "name": "stdout",
          "text": [
            "테스트 개수를 입력하세요: 5\n",
            "띄어쓰기를 사용해 숫자를 입력하세요: 1 1\n",
            "Case #1: 1 + 1 = 2\n",
            "띄어쓰기를 사용해 숫자를 입력하세요: 2 3\n",
            "Case #2: 2 + 3 = 5\n",
            "띄어쓰기를 사용해 숫자를 입력하세요: 3 4\n",
            "Case #3: 3 + 4 = 7\n",
            "띄어쓰기를 사용해 숫자를 입력하세요: 9 8\n",
            "Case #4: 9 + 8 = 17\n",
            "띄어쓰기를 사용해 숫자를 입력하세요: 5 2\n",
            "Case #5: 5 + 2 = 7\n"
          ]
        }
      ]
    },
    {
      "cell_type": "markdown",
      "metadata": {
        "id": "p_OER7VwyMNC"
      },
      "source": [
        "# 9. 별찍기"
      ]
    },
    {
      "cell_type": "markdown",
      "metadata": {
        "id": "QwkhcarvyMts"
      },
      "source": [
        "- 첫째 줄에는 별 1개, 둘째 줄에는 별 2개, N번째 줄에는 별 N개를 찍는 문제\n",
        "- 첫째 줄에 N(1 ≤ N ≤ 100)이 주어진다.\n",
        "- 첫째 줄부터 N번째 줄까지 차례대로 별을 출력한다.\n"
      ]
    },
    {
      "cell_type": "code",
      "metadata": {
        "colab": {
          "base_uri": "https://localhost:8080/"
        },
        "id": "bhbfRgxSyCSq",
        "outputId": "1f2b1c29-9743-4c65-9ec2-196c83e8bb1d"
      },
      "source": [
        "n = int(input(\"숫자를 입력하세요: \"))\n",
        "\n",
        "for i in range(1, n+1):\n",
        "  for j in range(i):\n",
        "    print(\"*\", end = '')\n",
        "  print()"
      ],
      "execution_count": 28,
      "outputs": [
        {
          "output_type": "stream",
          "name": "stdout",
          "text": [
            "숫자를 입력하세요: 5\n",
            "*\n",
            "**\n",
            "***\n",
            "****\n",
            "*****\n"
          ]
        }
      ]
    },
    {
      "cell_type": "markdown",
      "metadata": {
        "id": "x5WRVKf_0C_U"
      },
      "source": [
        "# 10. 별찍기"
      ]
    },
    {
      "cell_type": "markdown",
      "metadata": {
        "id": "6tKGx8Eg0HKx"
      },
      "source": [
        "- 첫째 줄에는 별 1개, 둘째 줄에는 별 2개, N번째 줄에는 별 N개를 찍는 문제\n",
        "- 오른쪽 정렬\n",
        "- 첫째 줄에 N(1 ≤ N ≤ 100)이 주어진다.\n",
        "- 첫째 줄부터 N번째 줄까지 차례대로 별을 출력한다."
      ]
    },
    {
      "cell_type": "code",
      "metadata": {
        "colab": {
          "base_uri": "https://localhost:8080/"
        },
        "id": "3KMZnuCayK4c",
        "outputId": "a39cc695-0ec9-4805-b581-60f668be20c3"
      },
      "source": [
        "n = int(input(\"숫자를 입력하세요: \"))\n",
        "\n",
        "for i in range(1, n+1):\n",
        "  for j in range(n-i):\n",
        "    print(\" \", end = '')\n",
        "  for j in range(i):\n",
        "    print(\"*\", end = '')\n",
        "  print()"
      ],
      "execution_count": 29,
      "outputs": [
        {
          "output_type": "stream",
          "name": "stdout",
          "text": [
            "숫자를 입력하세요: 5\n",
            "    *\n",
            "   **\n",
            "  ***\n",
            " ****\n",
            "*****\n"
          ]
        }
      ]
    },
    {
      "cell_type": "markdown",
      "metadata": {
        "id": "trk1AKLg1RTd"
      },
      "source": [
        "# 11. X보다 작은 수"
      ]
    },
    {
      "cell_type": "markdown",
      "metadata": {
        "id": "aosY-DwA1VAy"
      },
      "source": [
        "- 정수 N개로 이루어진 수열 A와 정수 X가 주어진다. 이때, A에서 X보다 작은 수를 모두 출력하는 프로그램을 작성하시오.\n",
        "- 첫째 줄에 N과 X가 주어진다. (1 ≤ N, X ≤ 10,000)\n",
        "- 둘째 줄에 수열 A를 이루는 정수 N개가 주어진다. 주어지는 정수는 모두 1보다 크거나 같고, 10,000보다 작거나 같은 정수이다.\n",
        "- X보다 작은 수를 입력받은 순서대로 공백으로 구분해 출력한다. \n",
        "- X보다 작은 수는 적어도 하나 존재한다."
      ]
    },
    {
      "cell_type": "code",
      "metadata": {
        "colab": {
          "base_uri": "https://localhost:8080/"
        },
        "id": "ls1zxX-_1LtN",
        "outputId": "eebba925-2337-4dd2-bb53-29ff6d3dbc69"
      },
      "source": [
        "import random\n",
        "\n",
        "n, x = map(int, input(\"띄어쓰기를 사용하여 정수 N과 정수 X를 입력하세요: \").split())\n",
        "a = list(map(int, input(\"띄어쓰기를 사용하여 정수 리스트를 입력하세요:\").split()))\n",
        "\n",
        "for i in a:\n",
        "  if i < x:\n",
        "    print(i, end= ' ')\n"
      ],
      "execution_count": 32,
      "outputs": [
        {
          "output_type": "stream",
          "name": "stdout",
          "text": [
            "띄어쓰기를 사용하여 정수 N과 정수 X를 입력하세요: 10 5\n",
            "띄어쓰기를 사용하여 정수 리스트를 입력하세요:1 10 4 9 2 3 8 5 7 6\n",
            "1 4 2 3 "
          ]
        }
      ]
    }
  ]
}