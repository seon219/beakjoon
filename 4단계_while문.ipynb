{
  "nbformat": 4,
  "nbformat_minor": 0,
  "metadata": {
    "colab": {
      "name": "4단계_while문.ipynb",
      "provenance": [],
      "authorship_tag": "ABX9TyMgNQLggjrBigVRt73+dmxl",
      "include_colab_link": true
    },
    "kernelspec": {
      "name": "python3",
      "display_name": "Python 3"
    },
    "language_info": {
      "name": "python"
    }
  },
  "cells": [
    {
      "cell_type": "markdown",
      "metadata": {
        "id": "view-in-github",
        "colab_type": "text"
      },
      "source": [
        "<a href=\"https://colab.research.google.com/github/seon219/beakjoon/blob/main/4%EB%8B%A8%EA%B3%84_while%EB%AC%B8.ipynb\" target=\"_parent\"><img src=\"https://colab.research.google.com/assets/colab-badge.svg\" alt=\"Open In Colab\"/></a>"
      ]
    },
    {
      "cell_type": "markdown",
      "metadata": {
        "id": "eKReA5eh-wDd"
      },
      "source": [
        "# 1. A+B"
      ]
    },
    {
      "cell_type": "markdown",
      "metadata": {
        "id": "yhXTcE-F_Bhw"
      },
      "source": [
        "- 두 정수 A와 B를 입력받은 다음, A+B를 출력하는 프로그램을 작성하시오.\n",
        "- 입력은 여러 개의 테스트 케이스로 이루어져 있다.\n",
        "- 각 테스트 케이스는 한 줄로 이루어져 있으며, 각 줄에 A와 B가 주어진다. (0 < A, B < 10)\n",
        "- 입력의 마지막에는 0 두 개가 들어온다."
      ]
    },
    {
      "cell_type": "code",
      "metadata": {
        "colab": {
          "base_uri": "https://localhost:8080/"
        },
        "id": "F6VjXfrACH-y",
        "outputId": "0a1a4d58-c197-4187-e406-aa59e7d00360"
      },
      "source": [
        "while True:\n",
        "  a, b = map(int, input(\"띄어쓰기를 사용하여 A와 B를 입력하세요: \").split())\n",
        "\n",
        "  if (a != 0) and (b != 0):\n",
        "    print(a+b)\n",
        "  else:\n",
        "    break;"
      ],
      "execution_count": 7,
      "outputs": [
        {
          "name": "stdout",
          "output_type": "stream",
          "text": [
            "띄어쓰기를 사용하여 A와 B를 입력하세요: 1 1\n",
            "2\n",
            "띄어쓰기를 사용하여 A와 B를 입력하세요: 2 3\n",
            "5\n",
            "띄어쓰기를 사용하여 A와 B를 입력하세요: 3 4\n",
            "7\n",
            "띄어쓰기를 사용하여 A와 B를 입력하세요: 9 8\n",
            "17\n",
            "띄어쓰기를 사용하여 A와 B를 입력하세요: 5 2\n",
            "7\n",
            "띄어쓰기를 사용하여 A와 B를 입력하세요: 0 0\n"
          ]
        }
      ]
    },
    {
      "cell_type": "markdown",
      "metadata": {
        "id": "ad3h7yb0_B3O"
      },
      "source": [
        "# 2. A+B"
      ]
    },
    {
      "cell_type": "markdown",
      "metadata": {
        "id": "GFeowZ42_Drt"
      },
      "source": [
        "- 두 정수 A와 B를 입력받은 다음, A+B를 출력하는 프로그램을 작성하시오.\n",
        "- 입력은 여러 개의 테스트 케이스로 이루어져 있다.\n",
        "- 각 테스트 케이스는 한 줄로 이루어져 있으며, 각 줄에 A와 B가 주어진다. (0 < A, B < 10)\n",
        "- 각 테스트 케이스마다 A+B를 출력한다."
      ]
    },
    {
      "cell_type": "code",
      "metadata": {
        "colab": {
          "base_uri": "https://localhost:8080/"
        },
        "id": "guZEs3I3GT3j",
        "outputId": "5a4acbb5-5e21-4bdc-a34d-63ea4b165bf9"
      },
      "source": [
        "# EOF\n",
        "while True:\n",
        "  try:\n",
        "    a, b = map(int, input(\"띄어쓰기를 사용하여 A와 B를 입력하세요: \").split())\n",
        "    print(a+b)\n",
        "\n",
        "  except:\n",
        "    break;"
      ],
      "execution_count": 8,
      "outputs": [
        {
          "name": "stdout",
          "output_type": "stream",
          "text": [
            "띄어쓰기를 사용하여 A와 B를 입력하세요: 1 1\n",
            "2\n",
            "띄어쓰기를 사용하여 A와 B를 입력하세요: 2 3\n",
            "5\n",
            "띄어쓰기를 사용하여 A와 B를 입력하세요: 3 4\n",
            "7\n",
            "띄어쓰기를 사용하여 A와 B를 입력하세요: 9 8\n",
            "17\n",
            "띄어쓰기를 사용하여 A와 B를 입력하세요: 5 2\n",
            "7\n",
            "띄어쓰기를 사용하여 A와 B를 입력하세요: \n"
          ]
        }
      ]
    },
    {
      "cell_type": "markdown",
      "metadata": {
        "id": "3LUwpxQJ-tRE"
      },
      "source": [
        "- EOF 마커는 빈 문자열\n",
        "- 먼저 try절이 실행, 예외가 발생하지 않으면 except절을 건너뛰고 try절 종료\n",
        "- try절을 실행하는 동안 예외가 발생하면 남은 절을 건너뛰고 excepy절로 넘어와 실행"
      ]
    },
    {
      "cell_type": "markdown",
      "metadata": {
        "id": "mqfXb4yh_DxD"
      },
      "source": [
        "# 3. 더하기 사이클"
      ]
    },
    {
      "cell_type": "markdown",
      "metadata": {
        "id": "t-bA5thE_GBV"
      },
      "source": [
        "- 주어진 수가 10보다 작다면 앞에 0을 붙여 두 자리 수로 만들고, 각 자리의 숫자를 더한다.\n",
        "- 주어진 수의 가장 오른쪽 자리 수와 앞에서 구한 합의 가장 오른쪽 자리 수를 이어 붙이면 새로운 수를 만들 수 있다.\n",
        "- 26부터 시작한다. 2+6 = 8이다. 새로운 수는 68이다. 6+8 = 14이다. 새로운 수는 84이다. 8+4 = 12이다. 새로운 수는 42이다. 4+2 = 6이다. 새로운 수는 26이다.\n",
        "- 26의 사이클은 4이다.\n",
        "- N이 주어졌을 때, N의 사이클의 길이를 구하는 프로그램을 작성하시오."
      ]
    },
    {
      "cell_type": "code",
      "metadata": {
        "colab": {
          "base_uri": "https://localhost:8080/"
        },
        "id": "9g7X5Abr-X4-",
        "outputId": "f7da109a-5d89-4b32-b1b6-66d57cf072fa"
      },
      "source": [
        "n = int(input(\"숫자를 입력하세요: \"))\n",
        "num = n\n",
        "count = 0\n",
        "\n",
        "while True:\n",
        "  a = num // 10  # 2\n",
        "  b = num % 10  # 6\n",
        "  c = (a + b) % 10  # 2 + 6 = 8\n",
        "  num = (b * 10) + c  # 60 + 8 = 68\n",
        "\n",
        "  count = count + 1  # 사이클 수\n",
        "  if (num == n):\n",
        "    break\n",
        "\n",
        "print(count)"
      ],
      "execution_count": 2,
      "outputs": [
        {
          "output_type": "stream",
          "name": "stdout",
          "text": [
            "숫자를 입력하세요: 26\n",
            "4\n"
          ]
        }
      ]
    }
  ]
}