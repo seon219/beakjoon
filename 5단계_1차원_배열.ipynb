{
  "nbformat": 4,
  "nbformat_minor": 0,
  "metadata": {
    "colab": {
      "name": "5단계_1차원 배열.ipynb",
      "provenance": [],
      "authorship_tag": "ABX9TyNyhExjV7AOsui5Qpc8+0Zl",
      "include_colab_link": true
    },
    "kernelspec": {
      "name": "python3",
      "display_name": "Python 3"
    },
    "language_info": {
      "name": "python"
    }
  },
  "cells": [
    {
      "cell_type": "markdown",
      "metadata": {
        "id": "view-in-github",
        "colab_type": "text"
      },
      "source": [
        "<a href=\"https://colab.research.google.com/github/seon219/beakjoon/blob/main/5%EB%8B%A8%EA%B3%84_1%EC%B0%A8%EC%9B%90_%EB%B0%B0%EC%97%B4.ipynb\" target=\"_parent\"><img src=\"https://colab.research.google.com/assets/colab-badge.svg\" alt=\"Open In Colab\"/></a>"
      ]
    },
    {
      "cell_type": "markdown",
      "metadata": {
        "id": "PQQDKkvcIOUT"
      },
      "source": [
        "# 1. 최소, 최대"
      ]
    },
    {
      "cell_type": "markdown",
      "metadata": {
        "id": "RBugACN0IOdP"
      },
      "source": [
        "- N개의 정수가 주어진다. 이때, 최솟값과 최댓값을 구하는 프로그램을 작성하시오.\n",
        "- 첫째 줄에 정수의 개수 N (1 ≤ N ≤ 1,000,000)이 주어진다.\n",
        "- 둘째 줄에는 N개의 정수를 공백으로 구분해서 주어진다.\n",
        "- 첫째 줄에 주어진 정수 N개의 최솟값과 최댓값을 공백으로 구분해 출력한다."
      ]
    },
    {
      "cell_type": "code",
      "metadata": {
        "id": "NQqmkSRVIKnS",
        "colab": {
          "base_uri": "https://localhost:8080/"
        },
        "outputId": "81bbb634-47ad-4900-b0fd-a024d41949ea"
      },
      "source": [
        "n = int(input(\"정수의 개수를 입력하세요: \"))\n",
        "a = list(map(int, input(\"띄어쓰기를 사용하여 정수 리스트를 입력하세요:\").split()))\n",
        "\n",
        "print(min(a),  max(a))"
      ],
      "execution_count": 2,
      "outputs": [
        {
          "output_type": "stream",
          "name": "stdout",
          "text": [
            "정수의 개수를 입력하세요: 5\n",
            "띄어쓰기를 사용하여 정수 리스트를 입력하세요:20 10 35 30 7\n",
            "7 35\n"
          ]
        }
      ]
    },
    {
      "cell_type": "markdown",
      "metadata": {
        "id": "nZuGsaetIhKS"
      },
      "source": [
        "# 2. 최댓값"
      ]
    },
    {
      "cell_type": "markdown",
      "metadata": {
        "id": "stOWEa7HIkFO"
      },
      "source": [
        "- 9개의 서로 다른 자연수가 주어질 때, 이들 중 최댓값을 찾고 그 최댓값이 몇 번째 수인지를 구하는 프로그램을 작성하시오.\n",
        "- 첫째 줄부터 아홉 번째 줄까지 한 줄에 하나의 자연수가 주어진다. 주어지는 자연수는 100 보다 작다.\n",
        "- 첫째 줄에 최댓값을 출력하고, 둘째 줄에 최댓값이 몇 번째 수인지를 출력한다."
      ]
    },
    {
      "cell_type": "code",
      "metadata": {
        "colab": {
          "base_uri": "https://localhost:8080/"
        },
        "id": "1p9HjzCcINjH",
        "outputId": "da8ead8a-637c-4bb4-e215-e67be542b804"
      },
      "source": [
        "a = 0\n",
        "b = 0\n",
        "\n",
        "for i in range(9):\n",
        "  n = int(input(\"정수를 입력하세요:\"))\n",
        "  if n > a:\n",
        "    a = n\n",
        "    b = i + 1\n",
        "    \n",
        "print(a)\n",
        "print(b)\n"
      ],
      "execution_count": 2,
      "outputs": [
        {
          "output_type": "stream",
          "name": "stdout",
          "text": [
            "정수를 입력하세요:3\n",
            "정수를 입력하세요:29\n",
            "정수를 입력하세요:38\n",
            "정수를 입력하세요:12\n",
            "정수를 입력하세요:57\n",
            "정수를 입력하세요:74\n",
            "정수를 입력하세요:40\n",
            "정수를 입력하세요:85\n",
            "정수를 입력하세요:61\n",
            "85\n",
            "8\n"
          ]
        }
      ]
    },
    {
      "cell_type": "markdown",
      "metadata": {
        "id": "u4gCqRHP2a1o"
      },
      "source": [
        "# 3. 문자의 개수"
      ]
    },
    {
      "cell_type": "markdown",
      "metadata": {
        "id": "RjM-klQ_2f2y"
      },
      "source": [
        "- 세 개의 자연수 A, B, C가 주어질 때 A × B × C를 계산한 결과에 0부터 9까지 각각의 숫자가 몇 번씩 쓰였는지를 구하는 프로그램을 작성하시오.\n",
        "- 첫째 줄에 A, 둘째 줄에 B, 셋째 줄에 C가 주어진다.\n",
        "- A, B, C는 모두 100보다 크거나 같고, 1,000보다 작은 자연수이다.\n",
        "- 첫째 줄에는 A × B × C의 결과에 0 이 몇 번 쓰였는지 출력한다.\n",
        "- 마찬가지로 둘째 줄부터 열 번째 줄까지 A × B × C의 결과에 1부터 9까지의 숫자가 각각 몇 번 쓰였는지 차례로 한 줄에 하나씩 출력한다."
      ]
    },
    {
      "cell_type": "code",
      "metadata": {
        "colab": {
          "base_uri": "https://localhost:8080/"
        },
        "id": "fIsUqsI6I6kF",
        "outputId": "a19b2e7e-34a1-4f7c-a7ae-ec732481fc58"
      },
      "source": [
        "a = int(input(\"정수를 입력하세요:\"))\n",
        "b = int(input(\"정수를 입력하세요:\"))\n",
        "c = int(input(\"정수를 입력하세요:\"))\n",
        "\n",
        "abc = str(a*b*c)\n",
        "for i in range(10):\n",
        "  n = abc.count(str(i))\n",
        "  print(n)"
      ],
      "execution_count": 4,
      "outputs": [
        {
          "output_type": "stream",
          "name": "stdout",
          "text": [
            "정수를 입력하세요:150\n",
            "정수를 입력하세요:266\n",
            "정수를 입력하세요:427\n",
            "3\n",
            "1\n",
            "0\n",
            "2\n",
            "0\n",
            "0\n",
            "0\n",
            "2\n",
            "0\n",
            "0\n"
          ]
        }
      ]
    },
    {
      "cell_type": "markdown",
      "metadata": {
        "id": "kGeL6KKj_48X"
      },
      "source": [
        "# 4. 나머지"
      ]
    },
    {
      "cell_type": "markdown",
      "metadata": {
        "id": "sFYGwoYp_7KF"
      },
      "source": [
        "- 두 자연수 A와 B가 있을 때, A%B는 A를 B로 나눈 나머지 이다. 예를 들어, 7, 14, 27, 38을 3으로 나눈 나머지는 1, 2, 0, 2이다. \n",
        "- 수 10개를 입력받은 뒤, 이를 42로 나눈 나머지를 구한다. 그 다음 서로 다른 값이 몇 개 있는지 출력하는 프로그램을 작성하시오.\n",
        "- 첫째 줄부터 열번째 줄 까지 숫자가 한 줄에 하나씩 주어진다\n",
        "- 첫째 줄에, 42로 나누었을 때, 서로 다른 나머지가 몇 개 있는지 출력한다."
      ]
    },
    {
      "cell_type": "code",
      "metadata": {
        "colab": {
          "base_uri": "https://localhost:8080/"
        },
        "id": "hXlsnkyh3YRc",
        "outputId": "40acaa4e-62af-41af-f93b-7f82b12acb76"
      },
      "source": [
        "a=[]\n",
        "\n",
        "for i in range(10):\n",
        "  n = int(input(\"정수를 입력하세요:\"))\n",
        "  a.append(n % 42)\n",
        "\n",
        "print(len(set(a))) # set 함수는 중복된 값 제거"
      ],
      "execution_count": 2,
      "outputs": [
        {
          "output_type": "stream",
          "name": "stdout",
          "text": [
            "정수를 입력하세요:1\n",
            "정수를 입력하세요:2\n",
            "정수를 입력하세요:3\n",
            "정수를 입력하세요:4\n",
            "정수를 입력하세요:5\n",
            "정수를 입력하세요:6\n",
            "정수를 입력하세요:7\n",
            "정수를 입력하세요:8\n",
            "정수를 입력하세요:9\n",
            "정수를 입력하세요:10\n",
            "10\n"
          ]
        }
      ]
    },
    {
      "cell_type": "markdown",
      "metadata": {
        "id": "iQMCCQ_cDIf6"
      },
      "source": [
        "# 5. 평균"
      ]
    },
    {
      "cell_type": "markdown",
      "metadata": {
        "id": "PIXjagY2DJ7H"
      },
      "source": [
        "- 점수 중 최댓값 M. 모든 점수를 점수/M*100\n",
        "- 첫째 줄에 시험 본 과목의 개수 N이 주어진다. \n",
        "- 둘째 줄에 현재 성적이 주어진다."
      ]
    },
    {
      "cell_type": "code",
      "metadata": {
        "colab": {
          "base_uri": "https://localhost:8080/"
        },
        "id": "Qle5s2ZH3Wjc",
        "outputId": "2e98f94d-31ea-47c2-fb54-bab5432105a3"
      },
      "source": [
        "b = 0\n",
        "n = int(input(\"과목의 개수를 입력하세요: \"))\n",
        "a = list(map(int, input(\"띄어쓰기를 사용하여 점수를 입력하세요:\").split()))\n",
        "\n",
        "for i in range(n):\n",
        "  s = a[i]/max(a)*100\n",
        "  b = b + s\n",
        "\n",
        "print(b/n)"
      ],
      "execution_count": 4,
      "outputs": [
        {
          "output_type": "stream",
          "name": "stdout",
          "text": [
            "과목의 개수를 입력하세요: 3\n",
            "띄어쓰기를 사용하여 점수를 입력하세요:40 80 60\n",
            "75.0\n"
          ]
        }
      ]
    },
    {
      "cell_type": "markdown",
      "metadata": {
        "id": "OqMSV5u5I66T"
      },
      "source": [
        "# 6. OX퀴즈"
      ]
    },
    {
      "cell_type": "markdown",
      "metadata": {
        "id": "dGp1KxkVI-Cr"
      },
      "source": [
        "- 문제를 맞은 경우 그 문제의 점수는 그 문제까지 연속된 O의 개수가 된다\n",
        "- \"OOXXOXXOOO\"의 점수는 1+2+0+0+1+0+0+1+2+3 = 10점\n",
        "- 첫째 줄에 테스트 케이스의 개수가 주어진다.\n",
        "- 각 테스트 케이스는 한 줄로 이루어져 있고, 길이가 0보다 크고 80보다 작은 문자열이 주어진다.\n",
        "- 문자열은 O와 X만으로 이루어져 있다."
      ]
    },
    {
      "cell_type": "code",
      "metadata": {
        "id": "fxJES08ZHZDY"
      },
      "source": [
        "s = 0\n",
        "n = int(input(\"케이스의 개수를 입력하세요: \"))\n",
        "\n",
        "for i in range(n):\n",
        "  a = input(\"퀴즈 결과를 입력하세요:\")\n",
        "  for j in a:\n",
        "    if j == 'O':\n",
        "      s = s + 1\n",
        "    else :\n",
        "      s = s + 0\n",
        "  print(int(s))"
      ],
      "execution_count": null,
      "outputs": []
    },
    {
      "cell_type": "markdown",
      "metadata": {
        "id": "i0Fz6cSZljhd"
      },
      "source": [
        "#7. 평균은 넘겠지"
      ]
    },
    {
      "cell_type": "markdown",
      "metadata": {
        "id": "UAD4cSbflmp9"
      },
      "source": [
        "- 첫째 줄에는 테스트 케이스의 개수 C가 주어진다.\n",
        "- 둘째 줄부터 각 테스트 케이스마다 학생의 수 N(1 ≤ N ≤ 1000, N은 정수)이 첫 수로 주어지고, 이어서 N명의 점수가 주어진다\n",
        "- 각 케이스마다 한 줄씩 평균을 넘는 학생들의 비율을 반올림하여 소수점 셋째 자리까지 출력한다."
      ]
    },
    {
      "cell_type": "code",
      "metadata": {
        "colab": {
          "base_uri": "https://localhost:8080/"
        },
        "id": "UNvOY4Nozmgf",
        "outputId": "cd86b3dc-9f59-4e36-d682-9c66377f7835"
      },
      "source": [
        "C = int(input(\"케이스의 개수를 입력하세요: \"))\n",
        "\n",
        "for i in range(C):\n",
        "    n = list(map(int, input(\"띄어쓰기를 사용하여 학생 수와 점수를 입력하세요: \").split()))\n",
        "    avg = sum(n[1:]) / n[0]\n",
        "    \n",
        "    a = 0\n",
        "    for i in n[1:]:\n",
        "        if i > avg:\n",
        "            a += 1\n",
        "            \n",
        "    print(str(\"%.3f\" %round((a/n[0])*100, 3))+\"%\")"
      ],
      "execution_count": 1,
      "outputs": [
        {
          "output_type": "stream",
          "name": "stdout",
          "text": [
            "케이스의 개수를 입력하세요: 5\n",
            "띄어쓰기를 사용하여 학생 수와 점수를 입력하세요: 5 50 50 70 80 100\n",
            "40.000%\n",
            "띄어쓰기를 사용하여 학생 수와 점수를 입력하세요: 7 100 95 90 80 70 60 50\n",
            "57.143%\n",
            "띄어쓰기를 사용하여 학생 수와 점수를 입력하세요: 3 70 90 80\n",
            "33.333%\n",
            "띄어쓰기를 사용하여 학생 수와 점수를 입력하세요: 3 70 90 81\n",
            "66.667%\n",
            "띄어쓰기를 사용하여 학생 수와 점수를 입력하세요: 9 100 99 98 97 96 95 94 93 91\n",
            "55.556%\n"
          ]
        }
      ]
    }
  ]
}