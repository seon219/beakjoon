{
  "nbformat": 4,
  "nbformat_minor": 0,
  "metadata": {
    "colab": {
      "name": "7단계_문자열.ipynb",
      "provenance": [],
      "authorship_tag": "ABX9TyPmrmqD3t0Gf+VcXRMjkNZY",
      "include_colab_link": true
    },
    "kernelspec": {
      "name": "python3",
      "display_name": "Python 3"
    },
    "language_info": {
      "name": "python"
    }
  },
  "cells": [
    {
      "cell_type": "markdown",
      "metadata": {
        "id": "view-in-github",
        "colab_type": "text"
      },
      "source": [
        "<a href=\"https://colab.research.google.com/github/seon219/beakjoon/blob/main/7%EB%8B%A8%EA%B3%84_%EB%AC%B8%EC%9E%90%EC%97%B4.ipynb\" target=\"_parent\"><img src=\"https://colab.research.google.com/assets/colab-badge.svg\" alt=\"Open In Colab\"/></a>"
      ]
    },
    {
      "cell_type": "markdown",
      "metadata": {
        "id": "r1bLW6giyXuz"
      },
      "source": [
        "# 1. 아스키코드"
      ]
    },
    {
      "cell_type": "markdown",
      "metadata": {
        "id": "6PGtepgryXyP"
      },
      "source": [
        "- 알파벳 소문자, 대문자, 숫자 0-9중 하나가 주어졌을 때, 주어진 글자의 아스키 코드값을 출력하는 프로그램을 작성하시오.\n",
        "- 알파벳 소문자, 대문자, 숫자 0-9 중 하나가 첫째 줄에 주어진다.\n",
        "- 입력으로 주어진 글자의 아스키 코드 값을 출력한다."
      ]
    },
    {
      "cell_type": "code",
      "metadata": {
        "colab": {
          "base_uri": "https://localhost:8080/"
        },
        "id": "bIPQopsLySgl",
        "outputId": "1396e96f-975a-40db-beca-424adc37084c"
      },
      "source": [
        "n = input(\"입력하세요: \")\n",
        "print(ord(n))"
      ],
      "execution_count": 7,
      "outputs": [
        {
          "output_type": "stream",
          "name": "stdout",
          "text": [
            "입력하세요: A\n",
            "65\n"
          ]
        }
      ]
    },
    {
      "cell_type": "markdown",
      "metadata": {
        "id": "MxakfJOKzxwX"
      },
      "source": [
        "- ord(문자) : 아스키코드를 반환\n",
        "- chr(숫자) : 숫자에 맞는 아스키 코드 반환"
      ]
    },
    {
      "cell_type": "markdown",
      "metadata": {
        "id": "BUNIdzMR0KBY"
      },
      "source": [
        "# 2. 숫자의 합"
      ]
    },
    {
      "cell_type": "markdown",
      "metadata": {
        "id": "cgZWEOKp0Jzo"
      },
      "source": [
        "- N개의 숫자가 공백 없이 쓰여있다. 이 숫자를 모두 합해서 출력하는 프로그램을 작성하시오.\n",
        "- 첫째 줄에 숫자의 개수 N (1 ≤ N ≤ 100)이 주어진다. 둘째 줄에 숫자 N개가 공백없이 주어진다."
      ]
    },
    {
      "cell_type": "code",
      "metadata": {
        "colab": {
          "base_uri": "https://localhost:8080/"
        },
        "id": "6U2krAMBzaKL",
        "outputId": "f07ad2b8-83ea-4d66-e57f-0f7c5687f4b9"
      },
      "source": [
        "s = 0\n",
        "n = int(input(\"숫자의 개수를 입력하세요: \"))\n",
        "a = input(\"숫자를 입력하세요: \")\n",
        "\n",
        "for i in range(n):\n",
        "  s += int(a[i])\n",
        "\n",
        "print(s)"
      ],
      "execution_count": 12,
      "outputs": [
        {
          "output_type": "stream",
          "name": "stdout",
          "text": [
            "숫자의 개수를 입력하세요: 5\n",
            "숫자를 입력하세요: 54321\n",
            "15\n"
          ]
        }
      ]
    },
    {
      "cell_type": "code",
      "metadata": {
        "colab": {
          "base_uri": "https://localhost:8080/"
        },
        "id": "UHOGiulz1ZC_",
        "outputId": "73659ac3-24a6-4a08-c1ef-98d1ea6d12e5"
      },
      "source": [
        "n = int(input(\"숫자의 개수를 입력하세요: \"))\n",
        "print(sum(map(int,input(\"숫자를 입력하세요: \"))))"
      ],
      "execution_count": 14,
      "outputs": [
        {
          "output_type": "stream",
          "name": "stdout",
          "text": [
            "숫자의 개수를 입력하세요: 11\n",
            "숫자를 입력하세요: 10987654321\n",
            "46\n"
          ]
        }
      ]
    },
    {
      "cell_type": "markdown",
      "metadata": {
        "id": "WiqaYEvD3Ari"
      },
      "source": [
        "# 3. 알파벳 찾기"
      ]
    },
    {
      "cell_type": "markdown",
      "metadata": {
        "id": "P0V9a3lW3Aoj"
      },
      "source": [
        "- 알파벳 소문자로만 이루어진 단어 S가 주어진다.\n",
        "- 각각의 알파벳에 대해서, 단어에 포함되어 있는 경우에는 처음 등장하는 위치를, 포함되어 있지 않은 경우에는 -1을 출력하는 프로그램을 작성하시오.\n",
        "- 각각의 알파벳에 대해서, a가 처음 등장하는 위치, b가 처음 등장하는 위치, ... z가 처음 등장하는 위치를 공백으로 구분해서 출력한다.\n",
        "- 어떤 알파벳이 단어에 포함되어 있지 않다면 -1을 출력한다. 단어의 첫 번째 글자는 0번째 위치이고, 두 번째 글자는 1번째 위치이다."
      ]
    },
    {
      "cell_type": "code",
      "metadata": {
        "colab": {
          "base_uri": "https://localhost:8080/"
        },
        "id": "99sxEOwJ2wVB",
        "outputId": "e9dd85cb-c538-4c6e-9220-7932f0b7e6e6"
      },
      "source": [
        "n = input(\"소문자를 이용하여 단어를 입력하세요: \")\n",
        "a = list(range(97,123)) # 아스키코드 숫자 범위\n",
        "\n",
        "for i in a:\n",
        "  print(n.find(chr(i)), end = ' ')"
      ],
      "execution_count": 16,
      "outputs": [
        {
          "output_type": "stream",
          "name": "stdout",
          "text": [
            "소문자를 이용하여 단어를 입력하세요: beakjoon\n",
            "2 0 -1 -1 1 -1 -1 -1 -1 4 3 -1 -1 7 5 -1 -1 -1 -1 -1 -1 -1 -1 -1 -1 -1 "
          ]
        }
      ]
    },
    {
      "cell_type": "code",
      "metadata": {
        "colab": {
          "base_uri": "https://localhost:8080/"
        },
        "id": "3_8cuOpI34U1",
        "outputId": "d3472fcc-20cb-4820-f293-e9fe135ee75d"
      },
      "source": [
        "n = input(\"소문자를 이용하여 단어를 입력하세요: \")\n",
        "a = \"abcdefghijklmnopqrstuvwxyz\"\n",
        "\n",
        "for i in a:\n",
        "  print(n.find(i), end = ' ')"
      ],
      "execution_count": 18,
      "outputs": [
        {
          "output_type": "stream",
          "name": "stdout",
          "text": [
            "소문자를 이용하여 단어를 입력하세요: beakjoon\n",
            "2 0 -1 -1 1 -1 -1 -1 -1 4 3 -1 -1 7 5 -1 -1 -1 -1 -1 -1 -1 -1 -1 -1 -1 "
          ]
        }
      ]
    },
    {
      "cell_type": "markdown",
      "metadata": {
        "id": "ohx-afTf4tKf"
      },
      "source": [
        "# 4. 문자열 반복"
      ]
    },
    {
      "cell_type": "markdown",
      "metadata": {
        "id": "h_hHXaMJ4xkt"
      },
      "source": [
        "- 문자열 S를 입력받은 후에, 각 문자를 R번 반복해 새 문자열 P를 만든 후 출력하는 프로그램을 작성하시오."
      ]
    },
    {
      "cell_type": "code",
      "metadata": {
        "colab": {
          "base_uri": "https://localhost:8080/"
        },
        "id": "iRYKDsne4i7a",
        "outputId": "5ce9779e-6dce-420d-bfcf-24d1770b87e1"
      },
      "source": [
        "C = int(input(\"케이스의 개수를 입력하세요: \"))\n",
        "\n",
        "for i in range(C):\n",
        "    n = input(\"띄어쓰기를 사용하여 반복횟수와 문자열을 입력하세요: \").split()\n",
        "    a = ''\n",
        "    for j in n[1]:\n",
        "      a += int(n[0]) * j\n",
        "    print(a)"
      ],
      "execution_count": 28,
      "outputs": [
        {
          "output_type": "stream",
          "name": "stdout",
          "text": [
            "케이스의 개수를 입력하세요: 2\n",
            "띄어쓰기를 사용하여 반복횟수와 문자열을 입력하세요: 3 ABC\n",
            "AAABBBCCC\n",
            "띄어쓰기를 사용하여 반복횟수와 문자열을 입력하세요: 5 /HTP\n",
            "/////HHHHHTTTTTPPPPP\n"
          ]
        }
      ]
    },
    {
      "cell_type": "markdown",
      "metadata": {
        "id": "23wpETTi7h4G"
      },
      "source": [
        "# 5. 단어 공부"
      ]
    },
    {
      "cell_type": "markdown",
      "metadata": {
        "id": "2rasjDZd7klb"
      },
      "source": [
        "- 알파벳 대소문자로 된 단어가 주어지면, 이 단어에서 가장 많이 사용된 알파벳이 무엇인지 알아내는 프로그램을 작성하시오. 단, 대문자와 소문자를 구분하지 않는다.\n",
        "- 첫째 줄에 알파벳 대소문자로 이루어진 단어가 주어진다. 주어지는 단어의 길이는 1,000,000을 넘지 않는다.\n",
        "- 첫째 줄에 이 단어에서 가장 많이 사용된 알파벳을 대문자로 출력한다. 단, 가장 많이 사용된 알파벳이 여러 개 존재하는 경우에는 ?를 출력한다."
      ]
    },
    {
      "cell_type": "code",
      "metadata": {
        "colab": {
          "base_uri": "https://localhost:8080/"
        },
        "id": "UvvfxJsd69Yk",
        "outputId": "fef51b6e-bc1c-44af-bc8c-87dabe3215da"
      },
      "source": [
        "word = input(\"알파벳을 입력하세요: \").lower()\n",
        "word_list = list(set(word))\n",
        "cnt = []\n",
        "\n",
        "for i in word_list:\n",
        "  count = word.count(i)\n",
        "  cnt.append(count)\n",
        "\n",
        "if cnt.count(max(cnt)) >= 2:\n",
        "  print(\"?\")\n",
        "else :\n",
        "  print(word_list[(cnt.index(max(cnt)))].upper())"
      ],
      "execution_count": 2,
      "outputs": [
        {
          "output_type": "stream",
          "name": "stdout",
          "text": [
            "알파벳을 입력하세요: bBBaaAB\n",
            "B\n"
          ]
        }
      ]
    },
    {
      "cell_type": "markdown",
      "metadata": {
        "id": "N4lqJCAt-Idz"
      },
      "source": [
        "# 6. 단어의 개수"
      ]
    },
    {
      "cell_type": "markdown",
      "metadata": {
        "id": "RYfz5OPW-L0U"
      },
      "source": [
        "- 영어 대소문자와 공백으로 이루어진 문자열이 주어질 때, 몇개의 단어가 있는지 구하시오\n",
        "- 한 단어가 여러 번 등장하면 등장한 횟수만큼 모두 세어야 한다.\n",
        "- 첫 줄에 영어 대소문자와 공백으로 이루어진 문자열이 주어진다.\n",
        "- 단어는 공백 한 개로 구분되며, 공백이 연속해서 나오는 경우는 없다. 또한 문자열은 공백으로 시작하거나 끝날 수 있다."
      ]
    },
    {
      "cell_type": "code",
      "metadata": {
        "colab": {
          "base_uri": "https://localhost:8080/"
        },
        "id": "C3wvyZ6E9qpU",
        "outputId": "7ccdbd3d-7b85-4552-efcd-0c375b629297"
      },
      "source": [
        "x = input(\"띄어쓰기를 사용하여 입력하세요: \").split()\n",
        "print(len(x))"
      ],
      "execution_count": 4,
      "outputs": [
        {
          "output_type": "stream",
          "name": "stdout",
          "text": [
            "띄어쓰기를 사용하여 입력하세요: The Curious Case of Benjamin Button\n",
            "6\n"
          ]
        }
      ]
    },
    {
      "cell_type": "markdown",
      "metadata": {
        "id": "TYKZ9Zcx_8Hp"
      },
      "source": [
        "# 7. 상수"
      ]
    },
    {
      "cell_type": "markdown",
      "metadata": {
        "id": "7aSXAtSz_-5g"
      },
      "source": [
        "- 734와 893을 칠판에 적었다면, 상수는 이 수를 437과 398로 읽는다. 따라서, 상수는 두 수중 큰 수인 437을 큰 수라고 말할 것이다.\n",
        "- 두 수가 주어졌을 때, 상수의 대답을 출력하는 프로그램을 작성하시오.\n",
        "- 첫째 줄에 상근이가 칠판에 적은 두 수 A와 B가 주어진다. 두 수는 같지 않은 세 자리 수이며, 0이 포함되어 있지 않다."
      ]
    },
    {
      "cell_type": "code",
      "metadata": {
        "colab": {
          "base_uri": "https://localhost:8080/"
        },
        "id": "HfcO_3lg_o0W",
        "outputId": "94d6af6d-1baf-46bb-8b29-452d7d9eed93"
      },
      "source": [
        "a, b = input(\"띄어쓰기를 사용하여 숫자를 입력하세요: \").split()\n",
        "a = int(a[::-1]) \n",
        "b = int(b[::-1])\n",
        "\n",
        "if a > b:\n",
        "  print(a)\n",
        "else :\n",
        "  print(b)"
      ],
      "execution_count": 5,
      "outputs": [
        {
          "output_type": "stream",
          "name": "stdout",
          "text": [
            "띄어쓰기를 사용하여 숫자를 입력하세요: 734 893\n",
            "437\n"
          ]
        }
      ]
    },
    {
      "cell_type": "markdown",
      "metadata": {
        "id": "w4HJ0LGXA7AS"
      },
      "source": [
        "# 8. 다이얼"
      ]
    },
    {
      "cell_type": "markdown",
      "metadata": {
        "id": "TxyCzVKaA9dI"
      },
      "source": [
        "- 숫자 1을 걸려면 총 2초가 필요하다. 1보다 큰 수를 거는데 걸리는 시간은 이보다 더 걸리며, 한 칸 옆에 있는 숫자를 걸기 위해선 1초씩 더 걸린다.\n",
        "- 어떤 단어를 걸 때, 각 알파벳에 해당하는 숫자를 걸면 된다. 예를 들어, UNUCIC는 868242와 같다.\n",
        "- 첫째 줄에 알파벳 대문자로 이루어진 단어가 주어진다. 단어의 길이는 2보다 크거나 같고, 15보다 작거나 같다.\n",
        "- 첫째 줄에 다이얼을 걸기 위해서 필요한 최소 시간을 출력한다."
      ]
    },
    {
      "cell_type": "code",
      "metadata": {
        "colab": {
          "base_uri": "https://localhost:8080/"
        },
        "id": "brpV5qrwA1pn",
        "outputId": "081d4f66-5655-44c9-d6cf-fdc23a6b03cd"
      },
      "source": [
        "alpabet_list = ['ABC','DEF','GHI','JKL','MNO','PQRS','TUV','WXYZ']\n",
        "word = input()\n",
        "\n",
        "time = 0\n",
        "for unit in alpabet_list :  \n",
        "    for i in unit:  # alpabet 리스트에서 각 요소를 꺼내서 한글자씩 분리\n",
        "        for x in word :  # 입력받은 문자를 하나씩 분리\n",
        "            if i == x :  # 두 알파벳이 같으면\n",
        "                time += alpabet_list.index(unit) +3  # time = time + index +3\n",
        "print(time)"
      ],
      "execution_count": 6,
      "outputs": [
        {
          "output_type": "stream",
          "name": "stdout",
          "text": [
            "WA\n",
            "13\n"
          ]
        }
      ]
    },
    {
      "cell_type": "markdown",
      "metadata": {
        "id": "Y4__62jQE_Jo"
      },
      "source": [
        "# 9. 크로아티아 알파벳"
      ]
    },
    {
      "cell_type": "markdown",
      "metadata": {
        "id": "TMhE9imrFSBV"
      },
      "source": [
        "- ljes=njak은 크로아티아 알파벳 6개(lj, e, š, nj, a, k)로 이루어져 있다. 단어가 주어졌을 때, 몇 개의 크로아티아 알파벳으로 이루어져 있는지 출력한다.\n",
        "- dž는 무조건 하나의 알파벳으로 쓰이고, d와 ž가 분리된 것으로 보지 않는다. lj와 nj도 마찬가지이다. 위 목록에 없는 알파벳은 한 글자씩 센다."
      ]
    },
    {
      "cell_type": "code",
      "metadata": {
        "colab": {
          "base_uri": "https://localhost:8080/"
        },
        "id": "uqOAqjjNEefW",
        "outputId": "df8ac2c8-ad90-4a97-b9a8-974cd667d676"
      },
      "source": [
        "x = input()\n",
        "y = len(x)\n",
        "cro_al = ['c=','c-','dz=','d-','lj','nj','s=','z=']\n",
        "for i in range(0, len(x)):\n",
        "    if len(x) < 2:\n",
        "        y = len(x)\n",
        "    elif len(x) == 2:\n",
        "        if (x[i-2] + x[i-1]) in cro_al:\n",
        "            y = 1\n",
        "    elif (x[i-3]+x[i-2]+x[i-1]) in cro_al:\n",
        "        y -= 2\n",
        "    elif (x[i-2] + x[i-1]) in cro_al:\n",
        "        y -= 1\n",
        "print(y)"
      ],
      "execution_count": 7,
      "outputs": [
        {
          "output_type": "stream",
          "name": "stdout",
          "text": [
            "ljes=njak\n",
            "6\n"
          ]
        }
      ]
    },
    {
      "cell_type": "code",
      "metadata": {
        "colab": {
          "base_uri": "https://localhost:8080/"
        },
        "id": "mlZ2IwTnGleW",
        "outputId": "bd3b3318-96c9-432f-f2b6-72c59bd1169e"
      },
      "source": [
        "croatia = ['c=', 'c-', 'dz=', 'd-', 'lj', 'nj', 's=', 'z=']\n",
        "word = input()\n",
        "\n",
        "for i in croatia :\n",
        "    word = word.replace(i, '*')  # input 변수와 동일한 이름의 변수\n",
        "print(len(word))"
      ],
      "execution_count": 8,
      "outputs": [
        {
          "output_type": "stream",
          "name": "stdout",
          "text": [
            "ljes=njak\n",
            "6\n"
          ]
        }
      ]
    },
    {
      "cell_type": "markdown",
      "metadata": {
        "id": "MZr7xcgPGtye"
      },
      "source": [
        "# 10. 그룹 단어 체커"
      ]
    },
    {
      "cell_type": "markdown",
      "metadata": {
        "id": "Xcwz5VbxHBsE"
      },
      "source": [
        "- 그룹 단어란 단어에 존재하는 모든 문자에 대해서, 각 문자가 연속해서 나타나는 경우만을 말한다\n",
        "- 단어 N개를 입력으로 받아 그룹 단어의 개수를 출력하는 프로그램을 작성하시오."
      ]
    },
    {
      "cell_type": "code",
      "metadata": {
        "colab": {
          "base_uri": "https://localhost:8080/"
        },
        "id": "hhxzGzmwGm0D",
        "outputId": "ed0e2d81-cb33-4b8f-abbd-be7a4068b994"
      },
      "source": [
        "n = int(input())\n",
        "\n",
        "group_word = 0\n",
        "for _ in range(n):\n",
        "    word = input()\n",
        "    error = 0\n",
        "    for index in range(len(word)-1):  # 인덱스 범위 생성 : 0부터 단어개수 -1까지 \n",
        "        if word[index] != word[index+1]:  # 연달은 두 문자가 다른 때,\n",
        "            new_word = word[index+1:]  # 현재글자 이후 문자열을 새로운 단어로 생성\n",
        "            if new_word.count(word[index]) > 0:  # 남은 문자열에서 현재글자가 있있다면\n",
        "                error += 1  # error에 1씩 증가.\n",
        "    if error == 0:  \n",
        "        group_word += 1  # error가 0이면 그룹단어\n",
        "print(group_word)"
      ],
      "execution_count": 9,
      "outputs": [
        {
          "output_type": "stream",
          "name": "stdout",
          "text": [
            "3\n",
            "happy\n",
            "new\n",
            "year\n",
            "3\n"
          ]
        }
      ]
    },
    {
      "cell_type": "code",
      "metadata": {
        "colab": {
          "base_uri": "https://localhost:8080/"
        },
        "id": "DA_pDTpvHd2G",
        "outputId": "47e4c976-837b-4f4a-ea60-ae1198334256"
      },
      "source": [
        "from string import ascii_lowercase\n",
        "n = int(input())\n",
        "for i in range(n):\n",
        "    x = input()\n",
        "    alpha = list(ascii_lowercase) # 알파벳 리스트 생성\n",
        "    for j in range(len(x)): # 문자열의 길이만큼 반복\n",
        "        if x[j] in alpha: # (첫문자~끝문자)가 알파벳 리스트에 있다면\n",
        "            if j == (len(x)-1): # 마지막 문자라면\n",
        "                alpha.remove(x[j]) # 알파벳 리스트에서 문자 제거\n",
        "            elif x[j+1] == x[j]: # 지금 글자와 다음 글자가 같다면\n",
        "                continue        # 다음 글자로 넘어감\n",
        "            elif x[j+1] != x[j]: # 지금 글자와 다음 글자가 다르다면\n",
        "                alpha.remove(x[j]) # 알파벳 리스트에서 문자 제거\n",
        "        elif x[j] not in alpha: # 지금 문자가 알파벳 리스트에 없다면\n",
        "            n -= 1 # 총 입력받은 n - 1\n",
        "            break # break로 탈출하지 않으면 리스트에 문자가 없을시 계속해서 빼게 됨\n",
        "print(n)"
      ],
      "execution_count": 10,
      "outputs": [
        {
          "output_type": "stream",
          "name": "stdout",
          "text": [
            "4\n",
            "aba\n",
            "abab\n",
            "abcabc\n",
            "a\n",
            "1\n"
          ]
        }
      ]
    }
  ]
}